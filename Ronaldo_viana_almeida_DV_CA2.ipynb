{
  "nbformat": 4,
  "nbformat_minor": 0,
  "metadata": {
    "colab": {
      "provenance": []
    },
    "kernelspec": {
      "name": "python3",
      "display_name": "Python 3"
    },
    "language_info": {
      "name": "python"
    }
  },
  "cells": [
    {
      "cell_type": "code",
      "execution_count": null,
      "metadata": {
        "id": "hDZSfVda9Brd"
      },
      "outputs": [],
      "source": [
        "import sys\n",
        "from heapq import heappush, heappop\n",
        "\n",
        "def AStarSearch(graph, heuristic, src, dest):\n",
        "    inf = sys.maxsize\n",
        "    node_data = {node: {'cost': inf, 'pred': []} for node in graph}\n",
        "    node_data[src]['cost'] = 0\n",
        "    visited = []\n",
        "    temp = src\n",
        "    for _ in range(len(graph)):\n",
        "        if temp not in visited:\n",
        "            visited.append(temp)\n",
        "            min_heap = []\n",
        "            for j in graph[temp]:\n",
        "                if j not in visited:\n",
        "                    cost = node_data[temp]['cost'] + graph[temp][j]\n",
        "                    if cost < node_data[j]['cost']:\n",
        "                        node_data[j]['cost'] = cost\n",
        "                        node_data[j]['pred'] = node_data[temp]['pred'] + [temp]\n",
        "                        heappush(min_heap, (node_data[j]['cost'], j))\n",
        "            if min_heap:\n",
        "                temp = heappop(min_heap)[1]\n",
        "    optimal_sequence = [dest]\n",
        "    trace_node = dest\n",
        "    for i in range(len(visited) - 2, -1, -1):\n",
        "        check_node = visited[i]\n",
        "        if trace_node in graph[check_node]:\n",
        "            children_costs = [graph[check_node][trace_node]]\n",
        "            if node_data[check_node]['cost'] + children_costs[0] == node_data[trace_node]['cost']:\n",
        "                optimal_sequence.append(check_node)\n",
        "                trace_node = check_node\n",
        "    optimal_sequence.reverse()\n",
        "    return visited, optimal_sequence\n",
        "\n"
      ]
    }
  ]
}