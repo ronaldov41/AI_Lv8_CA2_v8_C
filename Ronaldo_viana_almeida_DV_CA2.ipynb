{
  "nbformat": 4,
  "nbformat_minor": 0,
  "metadata": {
    "colab": {
      "provenance": []
    },
    "kernelspec": {
      "name": "python3",
      "display_name": "Python 3"
    },
    "language_info": {
      "name": "python"
    }
  },
  "cells": [
    {
      "cell_type": "code",
      "execution_count": 1,
      "metadata": {
        "id": "hDZSfVda9Brd"
      },
      "outputs": [],
      "source": [
        "import sys\n",
        "from heapq import heappush, heappop\n",
        "\n",
        "def AStarSearch(graph, heuristic, src, dest):\n",
        "    inf = sys.maxsize\n",
        "    node_data = {node: {'cost': inf, 'pred': []} for node in graph}\n",
        "    node_data[src]['cost'] = 0\n",
        "    visited = []\n",
        "    temp = src\n",
        "    for _ in range(len(graph)):\n",
        "        if temp not in visited:\n",
        "            visited.append(temp)\n",
        "            min_heap = []\n",
        "            for j in graph[temp]:\n",
        "                if j not in visited:\n",
        "                    cost = node_data[temp]['cost'] + graph[temp][j]\n",
        "                    if cost < node_data[j]['cost']:\n",
        "                        node_data[j]['cost'] = cost\n",
        "                        node_data[j]['pred'] = node_data[temp]['pred'] + [temp]\n",
        "                        heappush(min_heap, (node_data[j]['cost'], j))\n",
        "            if min_heap:\n",
        "                temp = heappop(min_heap)[1]\n",
        "    optimal_sequence = [dest]\n",
        "    trace_node = dest\n",
        "    for i in range(len(visited) - 2, -1, -1):\n",
        "        check_node = visited[i]\n",
        "        if trace_node in graph[check_node]:\n",
        "            children_costs = [graph[check_node][trace_node]]\n",
        "            if node_data[check_node]['cost'] + children_costs[0] == node_data[trace_node]['cost']:\n",
        "                optimal_sequence.append(check_node)\n",
        "                trace_node = check_node\n",
        "    optimal_sequence.reverse()\n",
        "    return visited, optimal_sequence\n",
        "\n"
      ]
    },
    {
      "cell_type": "code",
      "source": [
        "if __name__ == '__main__':\n",
        "    graph = {\n",
        "        'A': {'B': 1, 'C': 2, 'H': 2},\n",
        "        'B': {'A': 1, 'D': 4, 'C': 2},\n",
        "        'C': {'A': 5, 'B': 2, 'G': 1},\n",
        "        'D': {'B': 4, 'E': 4, 'L': 7, 'F': 7},\n",
        "        'E': {'D': 4, 'F': 3, 'W': 6},\n",
        "        'F': {'D': 7, 'E': 3, 'G': 2},\n",
        "        'G': {'F': 2, 'C': 1, 'L': 3},\n",
        "        'H': {'A': 2, 'J': 9, 'K': 5},\n",
        "        'J': {'H': 9, 'N': 6, 'K': 3},\n",
        "        'L': {'K': 5, 'M': 4, 'V': 10, 'G': 3, 'D': 7, 'W': 8, 'N': 3},\n",
        "        'M': {'L': 4, 'P': 2, 'Q': 10},\n",
        "        'N': {'P': 4, 'L': 3, 'J': 6, 'S': 7},\n",
        "        'P': {'N': 4, 'R': 5, 'M': 2},\n",
        "        'Q': {'M': 10, 'S': 8, 'W': 4},\n",
        "        'R': {'P': 5, 'S': 4, 'T': 3},\n",
        "        'S': {'Q': 8, 'V': 6, 'T': 4, 'N': 7, 'U': 2, 'R': 4},\n",
        "        'T': {'R': 3, 'U': 1, 'S': 4},\n",
        "        'U': {'S': 2, 'T': 1, 'V': 3},\n",
        "        'V': {'L': 10, 'U': 3, 'S': 6, 'W': 5},\n",
        "        'W': {'L': 8, 'E': 6, 'Q': 4, 'V': 5},\n",
        "    }\n",
        "    heuristic = {\n",
        "        'A': 8, 'B': 4, 'C': 3, 'D': 5000, 'E': 5000, 'F': 5000, 'G': 0,\n",
        "        'H': 5000, 'J': 5000, 'K': 5000, 'L': 5000, 'M': 5000, 'N': 5000,\n",
        "        'P': 5000, 'Q': 5000, 'R': 5000, 'S': 5000, 'T': 5000, 'U': 5000, 'V': 5000,\n",
        "        'W': 5000,\n",
        "    }\n",
        "\n",
        "    source = 'A'\n",
        "    destination = 'W'\n",
        "    visited_nodes, optimal_nodes = AStarSearch(graph, heuristic, source, destination)\n",
        "    print('visited nodes: ' + str(visited_nodes))\n",
        "    print('optimal nodes sequence: ' + str(optimal_nodes))\n"
      ],
      "metadata": {
        "colab": {
          "base_uri": "https://localhost:8080/"
        },
        "id": "vCMwSRaIbvvp",
        "outputId": "1ff4bb97-e73f-4c06-a9f8-18f3c7947381"
      },
      "execution_count": 4,
      "outputs": [
        {
          "output_type": "stream",
          "name": "stdout",
          "text": [
            "visited nodes: ['A', 'B', 'D', 'E', 'W', 'Q', 'S', 'U', 'T']\n",
            "optimal nodes sequence: ['A', 'B', 'D', 'E', 'W']\n"
          ]
        }
      ]
    }
  ]
}